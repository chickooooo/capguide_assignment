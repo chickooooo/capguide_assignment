{
 "cells": [
  {
   "attachments": {},
   "cell_type": "markdown",
   "metadata": {},
   "source": [
    "Write a python script which takes these inputs - \n",
    "1. Rank \n",
    "2. Seat Type \n",
    "3. Gender \n",
    "\n",
    "The output of the script should be the list of college branches that the rank will get selected into using the dataset.\n",
    "\n",
    "BONUS question - Suppose you are given 2 such files. How would your script change in that case? Explain your approach how would you find the chances of selection for a rank in a branch for that case."
   ]
  },
  {
   "attachments": {},
   "cell_type": "markdown",
   "metadata": {},
   "source": [
    "<br>\n",
    "<br>\n",
    "<br>"
   ]
  },
  {
   "cell_type": "code",
   "execution_count": null,
   "metadata": {},
   "outputs": [],
   "source": [
    "# dependencies\n",
    "! pip install pandas"
   ]
  },
  {
   "cell_type": "code",
   "execution_count": 1,
   "metadata": {},
   "outputs": [],
   "source": [
    "import pandas as pd"
   ]
  },
  {
   "attachments": {},
   "cell_type": "markdown",
   "metadata": {},
   "source": [
    "<br>\n",
    "<br>\n",
    "<br>"
   ]
  },
  {
   "cell_type": "code",
   "execution_count": 2,
   "metadata": {},
   "outputs": [
    {
     "data": {
      "text/html": [
       "<div>\n",
       "<style scoped>\n",
       "    .dataframe tbody tr th:only-of-type {\n",
       "        vertical-align: middle;\n",
       "    }\n",
       "\n",
       "    .dataframe tbody tr th {\n",
       "        vertical-align: top;\n",
       "    }\n",
       "\n",
       "    .dataframe thead th {\n",
       "        text-align: right;\n",
       "    }\n",
       "</style>\n",
       "<table border=\"1\" class=\"dataframe\">\n",
       "  <thead>\n",
       "    <tr style=\"text-align: right;\">\n",
       "      <th></th>\n",
       "      <th>Institute</th>\n",
       "      <th>Academic Program Name</th>\n",
       "      <th>Quota</th>\n",
       "      <th>Seat Type</th>\n",
       "      <th>Gender</th>\n",
       "      <th>Opening Rank</th>\n",
       "      <th>Closing Rank</th>\n",
       "      <th>Round</th>\n",
       "    </tr>\n",
       "  </thead>\n",
       "  <tbody>\n",
       "    <tr>\n",
       "      <th>0</th>\n",
       "      <td>Indian Institute of Technology Bhubaneswar</td>\n",
       "      <td>Civil Engineering (4 Years, Bachelor of Techno...</td>\n",
       "      <td>AI</td>\n",
       "      <td>OPEN</td>\n",
       "      <td>Gender-Neutral</td>\n",
       "      <td>9193</td>\n",
       "      <td>11771</td>\n",
       "      <td>1</td>\n",
       "    </tr>\n",
       "    <tr>\n",
       "      <th>1</th>\n",
       "      <td>Indian Institute of Technology Bhubaneswar</td>\n",
       "      <td>Civil Engineering (4 Years, Bachelor of Techno...</td>\n",
       "      <td>AI</td>\n",
       "      <td>OPEN</td>\n",
       "      <td>Female-only (including Supernumerary)</td>\n",
       "      <td>16138</td>\n",
       "      <td>20164</td>\n",
       "      <td>1</td>\n",
       "    </tr>\n",
       "    <tr>\n",
       "      <th>2</th>\n",
       "      <td>Indian Institute of Technology Bhubaneswar</td>\n",
       "      <td>Civil Engineering (4 Years, Bachelor of Techno...</td>\n",
       "      <td>AI</td>\n",
       "      <td>EWS</td>\n",
       "      <td>Gender-Neutral</td>\n",
       "      <td>1605</td>\n",
       "      <td>1744</td>\n",
       "      <td>1</td>\n",
       "    </tr>\n",
       "    <tr>\n",
       "      <th>3</th>\n",
       "      <td>Indian Institute of Technology Bhubaneswar</td>\n",
       "      <td>Civil Engineering (4 Years, Bachelor of Techno...</td>\n",
       "      <td>AI</td>\n",
       "      <td>EWS</td>\n",
       "      <td>Female-only (including Supernumerary)</td>\n",
       "      <td>3159</td>\n",
       "      <td>3159</td>\n",
       "      <td>1</td>\n",
       "    </tr>\n",
       "    <tr>\n",
       "      <th>4</th>\n",
       "      <td>Indian Institute of Technology Bhubaneswar</td>\n",
       "      <td>Civil Engineering (4 Years, Bachelor of Techno...</td>\n",
       "      <td>AI</td>\n",
       "      <td>OBC-NCL</td>\n",
       "      <td>Gender-Neutral</td>\n",
       "      <td>3997</td>\n",
       "      <td>4297</td>\n",
       "      <td>1</td>\n",
       "    </tr>\n",
       "  </tbody>\n",
       "</table>\n",
       "</div>"
      ],
      "text/plain": [
       "                                    Institute  \\\n",
       "0  Indian Institute of Technology Bhubaneswar   \n",
       "1  Indian Institute of Technology Bhubaneswar   \n",
       "2  Indian Institute of Technology Bhubaneswar   \n",
       "3  Indian Institute of Technology Bhubaneswar   \n",
       "4  Indian Institute of Technology Bhubaneswar   \n",
       "\n",
       "                               Academic Program Name Quota Seat Type  \\\n",
       "0  Civil Engineering (4 Years, Bachelor of Techno...    AI      OPEN   \n",
       "1  Civil Engineering (4 Years, Bachelor of Techno...    AI      OPEN   \n",
       "2  Civil Engineering (4 Years, Bachelor of Techno...    AI       EWS   \n",
       "3  Civil Engineering (4 Years, Bachelor of Techno...    AI       EWS   \n",
       "4  Civil Engineering (4 Years, Bachelor of Techno...    AI   OBC-NCL   \n",
       "\n",
       "                                  Gender Opening Rank Closing Rank  Round  \n",
       "0                         Gender-Neutral         9193        11771      1  \n",
       "1  Female-only (including Supernumerary)        16138        20164      1  \n",
       "2                         Gender-Neutral         1605         1744      1  \n",
       "3  Female-only (including Supernumerary)         3159         3159      1  \n",
       "4                         Gender-Neutral         3997         4297      1  "
      ]
     },
     "execution_count": 2,
     "metadata": {},
     "output_type": "execute_result"
    }
   ],
   "source": [
    "# loading data\n",
    "data = pd.read_csv(\"../data/round1_josaa_22.csv\")\n",
    "data.head()"
   ]
  },
  {
   "cell_type": "code",
   "execution_count": 3,
   "metadata": {},
   "outputs": [
    {
     "data": {
      "text/plain": [
       "(10022, 8)"
      ]
     },
     "execution_count": 3,
     "metadata": {},
     "output_type": "execute_result"
    }
   ],
   "source": [
    "# checking shape\n",
    "data.shape"
   ]
  },
  {
   "cell_type": "code",
   "execution_count": 4,
   "metadata": {},
   "outputs": [
    {
     "data": {
      "text/plain": [
       "Institute                object\n",
       "Academic Program Name    object\n",
       "Quota                    object\n",
       "Seat Type                object\n",
       "Gender                   object\n",
       "Opening Rank             object\n",
       "Closing Rank             object\n",
       "Round                     int64\n",
       "dtype: object"
      ]
     },
     "execution_count": 4,
     "metadata": {},
     "output_type": "execute_result"
    }
   ],
   "source": [
    "# checking dataypes\n",
    "data.dtypes"
   ]
  },
  {
   "cell_type": "code",
   "execution_count": 5,
   "metadata": {},
   "outputs": [
    {
     "data": {
      "text/plain": [
       "False"
      ]
     },
     "execution_count": 5,
     "metadata": {},
     "output_type": "execute_result"
    }
   ],
   "source": [
    "# checking duplicate values\n",
    "data.duplicated().any()"
   ]
  },
  {
   "cell_type": "code",
   "execution_count": 6,
   "metadata": {},
   "outputs": [
    {
     "data": {
      "text/plain": [
       "False"
      ]
     },
     "execution_count": 6,
     "metadata": {},
     "output_type": "execute_result"
    }
   ],
   "source": [
    "# checking null values\n",
    "data.isna().any().any()"
   ]
  },
  {
   "attachments": {},
   "cell_type": "markdown",
   "metadata": {},
   "source": [
    "<br>\n",
    "<br>\n",
    "<br>"
   ]
  },
  {
   "attachments": {},
   "cell_type": "markdown",
   "metadata": {},
   "source": [
    "Assumption:\n",
    "- removing letter P from rank feature"
   ]
  },
  {
   "cell_type": "code",
   "execution_count": 7,
   "metadata": {},
   "outputs": [],
   "source": [
    "# clean rank feature\n",
    "def rank_to_int(x):\n",
    "    k = str(x)\n",
    "    if 'P' in k:\n",
    "        k = k[:-1]\n",
    "    return int(k)"
   ]
  },
  {
   "cell_type": "code",
   "execution_count": 8,
   "metadata": {},
   "outputs": [],
   "source": [
    "# convert to int\n",
    "\n",
    "data['Opening Rank'] = data['Opening Rank'].apply(rank_to_int)\n",
    "data['Closing Rank'] = data['Closing Rank'].apply(rank_to_int)"
   ]
  },
  {
   "cell_type": "code",
   "execution_count": 9,
   "metadata": {},
   "outputs": [
    {
     "data": {
      "text/html": [
       "<div>\n",
       "<style scoped>\n",
       "    .dataframe tbody tr th:only-of-type {\n",
       "        vertical-align: middle;\n",
       "    }\n",
       "\n",
       "    .dataframe tbody tr th {\n",
       "        vertical-align: top;\n",
       "    }\n",
       "\n",
       "    .dataframe thead th {\n",
       "        text-align: right;\n",
       "    }\n",
       "</style>\n",
       "<table border=\"1\" class=\"dataframe\">\n",
       "  <thead>\n",
       "    <tr style=\"text-align: right;\">\n",
       "      <th></th>\n",
       "      <th>Institute</th>\n",
       "      <th>Academic Program Name</th>\n",
       "      <th>Quota</th>\n",
       "      <th>Seat Type</th>\n",
       "      <th>Gender</th>\n",
       "      <th>Opening Rank</th>\n",
       "      <th>Closing Rank</th>\n",
       "      <th>Round</th>\n",
       "    </tr>\n",
       "  </thead>\n",
       "  <tbody>\n",
       "    <tr>\n",
       "      <th>0</th>\n",
       "      <td>Indian Institute of Technology Bhubaneswar</td>\n",
       "      <td>Civil Engineering (4 Years, Bachelor of Techno...</td>\n",
       "      <td>AI</td>\n",
       "      <td>OPEN</td>\n",
       "      <td>Gender-Neutral</td>\n",
       "      <td>9193</td>\n",
       "      <td>11771</td>\n",
       "      <td>1</td>\n",
       "    </tr>\n",
       "    <tr>\n",
       "      <th>1</th>\n",
       "      <td>Indian Institute of Technology Bhubaneswar</td>\n",
       "      <td>Civil Engineering (4 Years, Bachelor of Techno...</td>\n",
       "      <td>AI</td>\n",
       "      <td>OPEN</td>\n",
       "      <td>Female-only (including Supernumerary)</td>\n",
       "      <td>16138</td>\n",
       "      <td>20164</td>\n",
       "      <td>1</td>\n",
       "    </tr>\n",
       "  </tbody>\n",
       "</table>\n",
       "</div>"
      ],
      "text/plain": [
       "                                    Institute  \\\n",
       "0  Indian Institute of Technology Bhubaneswar   \n",
       "1  Indian Institute of Technology Bhubaneswar   \n",
       "\n",
       "                               Academic Program Name Quota Seat Type  \\\n",
       "0  Civil Engineering (4 Years, Bachelor of Techno...    AI      OPEN   \n",
       "1  Civil Engineering (4 Years, Bachelor of Techno...    AI      OPEN   \n",
       "\n",
       "                                  Gender  Opening Rank  Closing Rank  Round  \n",
       "0                         Gender-Neutral          9193         11771      1  \n",
       "1  Female-only (including Supernumerary)         16138         20164      1  "
      ]
     },
     "execution_count": 9,
     "metadata": {},
     "output_type": "execute_result"
    }
   ],
   "source": [
    "data.head(2)"
   ]
  },
  {
   "attachments": {},
   "cell_type": "markdown",
   "metadata": {},
   "source": [
    "<br>\n",
    "<br>"
   ]
  },
  {
   "cell_type": "code",
   "execution_count": 10,
   "metadata": {},
   "outputs": [
    {
     "data": {
      "text/html": [
       "<div>\n",
       "<style scoped>\n",
       "    .dataframe tbody tr th:only-of-type {\n",
       "        vertical-align: middle;\n",
       "    }\n",
       "\n",
       "    .dataframe tbody tr th {\n",
       "        vertical-align: top;\n",
       "    }\n",
       "\n",
       "    .dataframe thead th {\n",
       "        text-align: right;\n",
       "    }\n",
       "</style>\n",
       "<table border=\"1\" class=\"dataframe\">\n",
       "  <thead>\n",
       "    <tr style=\"text-align: right;\">\n",
       "      <th></th>\n",
       "      <th>Institute</th>\n",
       "      <th>Academic Program Name</th>\n",
       "      <th>Quota</th>\n",
       "      <th>Seat Type</th>\n",
       "      <th>Gender</th>\n",
       "      <th>Opening Rank</th>\n",
       "      <th>Closing Rank</th>\n",
       "      <th>Round</th>\n",
       "    </tr>\n",
       "  </thead>\n",
       "  <tbody>\n",
       "    <tr>\n",
       "      <th>299</th>\n",
       "      <td>Indian Institute of Technology Bombay</td>\n",
       "      <td>Metallurgical Engineering and Materials Scienc...</td>\n",
       "      <td>AI</td>\n",
       "      <td>OPEN (PwD)</td>\n",
       "      <td>Gender-Neutral</td>\n",
       "      <td>169</td>\n",
       "      <td>60</td>\n",
       "      <td>1</td>\n",
       "    </tr>\n",
       "    <tr>\n",
       "      <th>914</th>\n",
       "      <td>Indian Institute of Technology Kharagpur</td>\n",
       "      <td>Mechanical Engineering (4 Years, Bachelor of T...</td>\n",
       "      <td>AI</td>\n",
       "      <td>OPEN (PwD)</td>\n",
       "      <td>Gender-Neutral</td>\n",
       "      <td>113</td>\n",
       "      <td>87</td>\n",
       "      <td>1</td>\n",
       "    </tr>\n",
       "    <tr>\n",
       "      <th>1284</th>\n",
       "      <td>Indian Institute of Technology Kanpur</td>\n",
       "      <td>Civil Engineering (4 Years, Bachelor of Techno...</td>\n",
       "      <td>AI</td>\n",
       "      <td>OPEN (PwD)</td>\n",
       "      <td>Gender-Neutral</td>\n",
       "      <td>102</td>\n",
       "      <td>58</td>\n",
       "      <td>1</td>\n",
       "    </tr>\n",
       "    <tr>\n",
       "      <th>1368</th>\n",
       "      <td>Indian Institute of Technology Kanpur</td>\n",
       "      <td>Mechanical Engineering (4 Years, Bachelor of T...</td>\n",
       "      <td>AI</td>\n",
       "      <td>OPEN (PwD)</td>\n",
       "      <td>Gender-Neutral</td>\n",
       "      <td>160</td>\n",
       "      <td>57</td>\n",
       "      <td>1</td>\n",
       "    </tr>\n",
       "    <tr>\n",
       "      <th>1862</th>\n",
       "      <td>Indian Institute of Technology Roorkee</td>\n",
       "      <td>Mechanical Engineering (4 Years, Bachelor of T...</td>\n",
       "      <td>AI</td>\n",
       "      <td>OPEN (PwD)</td>\n",
       "      <td>Gender-Neutral</td>\n",
       "      <td>157</td>\n",
       "      <td>88</td>\n",
       "      <td>1</td>\n",
       "    </tr>\n",
       "    <tr>\n",
       "      <th>1963</th>\n",
       "      <td>Indian Institute of Technology (ISM) Dhanbad</td>\n",
       "      <td>Electronics and Communication Engineering (4 Y...</td>\n",
       "      <td>AI</td>\n",
       "      <td>OPEN (PwD)</td>\n",
       "      <td>Gender-Neutral</td>\n",
       "      <td>176</td>\n",
       "      <td>90</td>\n",
       "      <td>1</td>\n",
       "    </tr>\n",
       "  </tbody>\n",
       "</table>\n",
       "</div>"
      ],
      "text/plain": [
       "                                         Institute  \\\n",
       "299          Indian Institute of Technology Bombay   \n",
       "914       Indian Institute of Technology Kharagpur   \n",
       "1284         Indian Institute of Technology Kanpur   \n",
       "1368         Indian Institute of Technology Kanpur   \n",
       "1862        Indian Institute of Technology Roorkee   \n",
       "1963  Indian Institute of Technology (ISM) Dhanbad   \n",
       "\n",
       "                                  Academic Program Name Quota   Seat Type  \\\n",
       "299   Metallurgical Engineering and Materials Scienc...    AI  OPEN (PwD)   \n",
       "914   Mechanical Engineering (4 Years, Bachelor of T...    AI  OPEN (PwD)   \n",
       "1284  Civil Engineering (4 Years, Bachelor of Techno...    AI  OPEN (PwD)   \n",
       "1368  Mechanical Engineering (4 Years, Bachelor of T...    AI  OPEN (PwD)   \n",
       "1862  Mechanical Engineering (4 Years, Bachelor of T...    AI  OPEN (PwD)   \n",
       "1963  Electronics and Communication Engineering (4 Y...    AI  OPEN (PwD)   \n",
       "\n",
       "              Gender  Opening Rank  Closing Rank  Round  \n",
       "299   Gender-Neutral           169            60      1  \n",
       "914   Gender-Neutral           113            87      1  \n",
       "1284  Gender-Neutral           102            58      1  \n",
       "1368  Gender-Neutral           160            57      1  \n",
       "1862  Gender-Neutral           157            88      1  \n",
       "1963  Gender-Neutral           176            90      1  "
      ]
     },
     "execution_count": 10,
     "metadata": {},
     "output_type": "execute_result"
    }
   ],
   "source": [
    "# records with opening rank greater than closing rank\n",
    "data[data['Opening Rank'] > data['Closing Rank']]"
   ]
  },
  {
   "attachments": {},
   "cell_type": "markdown",
   "metadata": {},
   "source": [
    "Removing above records"
   ]
  },
  {
   "cell_type": "code",
   "execution_count": 11,
   "metadata": {},
   "outputs": [
    {
     "data": {
      "text/html": [
       "<div>\n",
       "<style scoped>\n",
       "    .dataframe tbody tr th:only-of-type {\n",
       "        vertical-align: middle;\n",
       "    }\n",
       "\n",
       "    .dataframe tbody tr th {\n",
       "        vertical-align: top;\n",
       "    }\n",
       "\n",
       "    .dataframe thead th {\n",
       "        text-align: right;\n",
       "    }\n",
       "</style>\n",
       "<table border=\"1\" class=\"dataframe\">\n",
       "  <thead>\n",
       "    <tr style=\"text-align: right;\">\n",
       "      <th></th>\n",
       "      <th>Institute</th>\n",
       "      <th>Academic Program Name</th>\n",
       "      <th>Quota</th>\n",
       "      <th>Seat Type</th>\n",
       "      <th>Gender</th>\n",
       "      <th>Opening Rank</th>\n",
       "      <th>Closing Rank</th>\n",
       "      <th>Round</th>\n",
       "    </tr>\n",
       "  </thead>\n",
       "  <tbody>\n",
       "    <tr>\n",
       "      <th>0</th>\n",
       "      <td>Indian Institute of Technology Bhubaneswar</td>\n",
       "      <td>Civil Engineering (4 Years, Bachelor of Techno...</td>\n",
       "      <td>AI</td>\n",
       "      <td>OPEN</td>\n",
       "      <td>Gender-Neutral</td>\n",
       "      <td>9193</td>\n",
       "      <td>11771</td>\n",
       "      <td>1</td>\n",
       "    </tr>\n",
       "    <tr>\n",
       "      <th>1</th>\n",
       "      <td>Indian Institute of Technology Bhubaneswar</td>\n",
       "      <td>Civil Engineering (4 Years, Bachelor of Techno...</td>\n",
       "      <td>AI</td>\n",
       "      <td>OPEN</td>\n",
       "      <td>Female-only (including Supernumerary)</td>\n",
       "      <td>16138</td>\n",
       "      <td>20164</td>\n",
       "      <td>1</td>\n",
       "    </tr>\n",
       "  </tbody>\n",
       "</table>\n",
       "</div>"
      ],
      "text/plain": [
       "                                    Institute  \\\n",
       "0  Indian Institute of Technology Bhubaneswar   \n",
       "1  Indian Institute of Technology Bhubaneswar   \n",
       "\n",
       "                               Academic Program Name Quota Seat Type  \\\n",
       "0  Civil Engineering (4 Years, Bachelor of Techno...    AI      OPEN   \n",
       "1  Civil Engineering (4 Years, Bachelor of Techno...    AI      OPEN   \n",
       "\n",
       "                                  Gender  Opening Rank  Closing Rank  Round  \n",
       "0                         Gender-Neutral          9193         11771      1  \n",
       "1  Female-only (including Supernumerary)         16138         20164      1  "
      ]
     },
     "execution_count": 11,
     "metadata": {},
     "output_type": "execute_result"
    }
   ],
   "source": [
    "data = data[~(data['Opening Rank'] > data['Closing Rank'])]\n",
    "data.head(2)"
   ]
  },
  {
   "cell_type": "code",
   "execution_count": 12,
   "metadata": {},
   "outputs": [
    {
     "data": {
      "text/plain": [
       "(10016, 8)"
      ]
     },
     "execution_count": 12,
     "metadata": {},
     "output_type": "execute_result"
    }
   ],
   "source": [
    "data.shape"
   ]
  },
  {
   "attachments": {},
   "cell_type": "markdown",
   "metadata": {},
   "source": [
    "<br>\n",
    "<br>"
   ]
  },
  {
   "attachments": {},
   "cell_type": "markdown",
   "metadata": {},
   "source": [
    "Assumptions:\n",
    "- The rank of the candidate should be between Opening Rank and Closing Rank (both included)\n",
    "- If gender is male, show 'Gender Neutral' seats\n",
    "- If gender is female, show 'Gender Neutral' + 'Female-only' seats\n",
    "- Returning Institute Name + Branch Name for clearity"
   ]
  },
  {
   "attachments": {},
   "cell_type": "markdown",
   "metadata": {},
   "source": [
    "<br>"
   ]
  },
  {
   "cell_type": "code",
   "execution_count": 13,
   "metadata": {},
   "outputs": [],
   "source": [
    "def get_branch_list(rank: int, seat_type: str, gender: str) -> list:\n",
    "    # list of colleges\n",
    "    colleges = []\n",
    "\n",
    "    # required data\n",
    "    required_data = pd.DataFrame()\n",
    "\n",
    "    if gender == 'male':\n",
    "        required_data = data[(data['Seat Type'] == seat_type) & (data['Gender'] == 'Gender-Neutral') & (data['Opening Rank'] <= rank) & (data['Closing Rank'] >= rank)]\n",
    "    elif gender == 'female':\n",
    "        required_data = data[(data['Seat Type'] == seat_type) & (data['Opening Rank'] <= rank) & (data['Closing Rank'] >= rank)]\n",
    "\n",
    "    # adding to the list\n",
    "    for i in range(len(required_data)):\n",
    "        colleges.append({\n",
    "            'institute': required_data.iloc[i]['Institute'],\n",
    "            'program': required_data.iloc[i]['Academic Program Name']\n",
    "        })\n",
    "\n",
    "    return colleges"
   ]
  },
  {
   "cell_type": "code",
   "execution_count": 14,
   "metadata": {},
   "outputs": [
    {
     "name": "stdout",
     "output_type": "stream",
     "text": [
      "117\n"
     ]
    },
    {
     "data": {
      "text/plain": [
       "[{'institute': 'Indian Institute of Technology Bhubaneswar',\n",
       "  'program': 'Civil Engineering (4 Years, Bachelor of Technology)'},\n",
       " {'institute': 'Indian Institute of Technology Bhubaneswar',\n",
       "  'program': 'Metallurgical and Materials Engineering (4 Years, Bachelor of Technology)'}]"
      ]
     },
     "execution_count": 14,
     "metadata": {},
     "output_type": "execute_result"
    }
   ],
   "source": [
    "# calling our function\n",
    "branch_list = get_branch_list(rank=10_000, seat_type='OPEN', gender='male')\n",
    "\n",
    "print(len(branch_list))\n",
    "branch_list[:2]"
   ]
  },
  {
   "attachments": {},
   "cell_type": "markdown",
   "metadata": {},
   "source": [
    "<br>"
   ]
  }
 ],
 "metadata": {
  "kernelspec": {
   "display_name": "deep_learning",
   "language": "python",
   "name": "python3"
  },
  "language_info": {
   "codemirror_mode": {
    "name": "ipython",
    "version": 3
   },
   "file_extension": ".py",
   "mimetype": "text/x-python",
   "name": "python",
   "nbconvert_exporter": "python",
   "pygments_lexer": "ipython3",
   "version": "3.9.16"
  },
  "orig_nbformat": 4
 },
 "nbformat": 4,
 "nbformat_minor": 2
}
